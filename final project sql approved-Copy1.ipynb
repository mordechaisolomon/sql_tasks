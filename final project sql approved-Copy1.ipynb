{
 "cells": [
  {
   "cell_type": "markdown",
   "id": "5c5cfa13",
   "metadata": {},
   "source": [
    "# SQL FINAL PROJECT"
   ]
  },
  {
   "cell_type": "markdown",
   "id": "2e4db158",
   "metadata": {},
   "source": [
    "## introduction\n",
    "as a book app we want to get a few answers about the rating of books and authors for marketing the best salers so we will connect to the database and make a few quaeries to get our infomation.\n",
    "first we will connect to the DB and learn our tables"
   ]
  },
  {
   "cell_type": "code",
   "execution_count": 1,
   "id": "137d9cde",
   "metadata": {},
   "outputs": [],
   "source": [
    "#! pip install psycopg2"
   ]
  },
  {
   "cell_type": "code",
   "execution_count": 2,
   "id": "8a214942",
   "metadata": {},
   "outputs": [],
   "source": [
    "# import libraries\n",
    "import pandas as pd\n",
    "from sqlalchemy import create_engine\n",
    "\n",
    "\n",
    "db_config = {'user': 'praktikum_student',         # user name\n",
    "             'pwd': 'Sdf4$2;d-d30pp', # password\n",
    "             'host': 'rc1b-wcoijxj3yxfsf3fs.mdb.yandexcloud.net',\n",
    "             'port': 6432,              # connection port\n",
    "             'db': 'data-analyst-final-project-db'}          # the name of the data base\n",
    "\n",
    "connection_string = 'postgresql://{}:{}@{}:{}/{}'.format(db_config['user'],\n",
    "                                                                     db_config['pwd'],\n",
    "                                                                       db_config['host'],\n",
    "                                                                       db_config['port'],\n",
    "                                                                       db_config['db'])\n",
    "\n",
    "engine = create_engine(connection_string, connect_args={'sslmode':'require'})"
   ]
  },
  {
   "cell_type": "markdown",
   "id": "aa5075f9",
   "metadata": {},
   "source": [
    "now with creating a loop we will explore the table that we can know them"
   ]
  },
  {
   "cell_type": "code",
   "execution_count": 3,
   "id": "a4434b35",
   "metadata": {},
   "outputs": [
    {
     "name": "stdout",
     "output_type": "stream",
     "text": [
      "books table\n"
     ]
    },
    {
     "data": {
      "text/html": [
       "<div>\n",
       "<style scoped>\n",
       "    .dataframe tbody tr th:only-of-type {\n",
       "        vertical-align: middle;\n",
       "    }\n",
       "\n",
       "    .dataframe tbody tr th {\n",
       "        vertical-align: top;\n",
       "    }\n",
       "\n",
       "    .dataframe thead th {\n",
       "        text-align: right;\n",
       "    }\n",
       "</style>\n",
       "<table border=\"1\" class=\"dataframe\">\n",
       "  <thead>\n",
       "    <tr style=\"text-align: right;\">\n",
       "      <th></th>\n",
       "      <th>book_id</th>\n",
       "      <th>author_id</th>\n",
       "      <th>title</th>\n",
       "      <th>num_pages</th>\n",
       "      <th>publication_date</th>\n",
       "      <th>publisher_id</th>\n",
       "    </tr>\n",
       "  </thead>\n",
       "  <tbody>\n",
       "    <tr>\n",
       "      <th>0</th>\n",
       "      <td>1</td>\n",
       "      <td>546</td>\n",
       "      <td>'Salem's Lot</td>\n",
       "      <td>594</td>\n",
       "      <td>2005-11-01</td>\n",
       "      <td>93</td>\n",
       "    </tr>\n",
       "    <tr>\n",
       "      <th>1</th>\n",
       "      <td>2</td>\n",
       "      <td>465</td>\n",
       "      <td>1 000 Places to See Before You Die</td>\n",
       "      <td>992</td>\n",
       "      <td>2003-05-22</td>\n",
       "      <td>336</td>\n",
       "    </tr>\n",
       "    <tr>\n",
       "      <th>2</th>\n",
       "      <td>3</td>\n",
       "      <td>407</td>\n",
       "      <td>13 Little Blue Envelopes (Little Blue Envelope...</td>\n",
       "      <td>322</td>\n",
       "      <td>2010-12-21</td>\n",
       "      <td>135</td>\n",
       "    </tr>\n",
       "    <tr>\n",
       "      <th>3</th>\n",
       "      <td>4</td>\n",
       "      <td>82</td>\n",
       "      <td>1491: New Revelations of the Americas Before C...</td>\n",
       "      <td>541</td>\n",
       "      <td>2006-10-10</td>\n",
       "      <td>309</td>\n",
       "    </tr>\n",
       "    <tr>\n",
       "      <th>4</th>\n",
       "      <td>5</td>\n",
       "      <td>125</td>\n",
       "      <td>1776</td>\n",
       "      <td>386</td>\n",
       "      <td>2006-07-04</td>\n",
       "      <td>268</td>\n",
       "    </tr>\n",
       "    <tr>\n",
       "      <th>5</th>\n",
       "      <td>6</td>\n",
       "      <td>257</td>\n",
       "      <td>1st to Die (Women's Murder Club  #1)</td>\n",
       "      <td>424</td>\n",
       "      <td>2005-05-20</td>\n",
       "      <td>116</td>\n",
       "    </tr>\n",
       "    <tr>\n",
       "      <th>6</th>\n",
       "      <td>7</td>\n",
       "      <td>258</td>\n",
       "      <td>2nd Chance (Women's Murder Club  #2)</td>\n",
       "      <td>400</td>\n",
       "      <td>2005-05-20</td>\n",
       "      <td>116</td>\n",
       "    </tr>\n",
       "    <tr>\n",
       "      <th>7</th>\n",
       "      <td>8</td>\n",
       "      <td>260</td>\n",
       "      <td>4th of July (Women's Murder Club  #4)</td>\n",
       "      <td>448</td>\n",
       "      <td>2006-06-01</td>\n",
       "      <td>318</td>\n",
       "    </tr>\n",
       "    <tr>\n",
       "      <th>8</th>\n",
       "      <td>9</td>\n",
       "      <td>563</td>\n",
       "      <td>A Beautiful Mind</td>\n",
       "      <td>461</td>\n",
       "      <td>2002-02-04</td>\n",
       "      <td>104</td>\n",
       "    </tr>\n",
       "    <tr>\n",
       "      <th>9</th>\n",
       "      <td>10</td>\n",
       "      <td>445</td>\n",
       "      <td>A Bend in the Road</td>\n",
       "      <td>341</td>\n",
       "      <td>2005-04-01</td>\n",
       "      <td>116</td>\n",
       "    </tr>\n",
       "  </tbody>\n",
       "</table>\n",
       "</div>"
      ],
      "text/plain": [
       "   book_id  author_id                                              title  \\\n",
       "0        1        546                                       'Salem's Lot   \n",
       "1        2        465                 1 000 Places to See Before You Die   \n",
       "2        3        407  13 Little Blue Envelopes (Little Blue Envelope...   \n",
       "3        4         82  1491: New Revelations of the Americas Before C...   \n",
       "4        5        125                                               1776   \n",
       "5        6        257               1st to Die (Women's Murder Club  #1)   \n",
       "6        7        258               2nd Chance (Women's Murder Club  #2)   \n",
       "7        8        260              4th of July (Women's Murder Club  #4)   \n",
       "8        9        563                                   A Beautiful Mind   \n",
       "9       10        445                                 A Bend in the Road   \n",
       "\n",
       "   num_pages publication_date  publisher_id  \n",
       "0        594       2005-11-01            93  \n",
       "1        992       2003-05-22           336  \n",
       "2        322       2010-12-21           135  \n",
       "3        541       2006-10-10           309  \n",
       "4        386       2006-07-04           268  \n",
       "5        424       2005-05-20           116  \n",
       "6        400       2005-05-20           116  \n",
       "7        448       2006-06-01           318  \n",
       "8        461       2002-02-04           104  \n",
       "9        341       2005-04-01           116  "
      ]
     },
     "metadata": {},
     "output_type": "display_data"
    },
    {
     "name": "stdout",
     "output_type": "stream",
     "text": [
      "reviews table\n"
     ]
    },
    {
     "data": {
      "text/html": [
       "<div>\n",
       "<style scoped>\n",
       "    .dataframe tbody tr th:only-of-type {\n",
       "        vertical-align: middle;\n",
       "    }\n",
       "\n",
       "    .dataframe tbody tr th {\n",
       "        vertical-align: top;\n",
       "    }\n",
       "\n",
       "    .dataframe thead th {\n",
       "        text-align: right;\n",
       "    }\n",
       "</style>\n",
       "<table border=\"1\" class=\"dataframe\">\n",
       "  <thead>\n",
       "    <tr style=\"text-align: right;\">\n",
       "      <th></th>\n",
       "      <th>review_id</th>\n",
       "      <th>book_id</th>\n",
       "      <th>username</th>\n",
       "      <th>text</th>\n",
       "    </tr>\n",
       "  </thead>\n",
       "  <tbody>\n",
       "    <tr>\n",
       "      <th>0</th>\n",
       "      <td>1</td>\n",
       "      <td>1</td>\n",
       "      <td>brandtandrea</td>\n",
       "      <td>Mention society tell send professor analysis. ...</td>\n",
       "    </tr>\n",
       "    <tr>\n",
       "      <th>1</th>\n",
       "      <td>2</td>\n",
       "      <td>1</td>\n",
       "      <td>ryanfranco</td>\n",
       "      <td>Foot glass pretty audience hit themselves. Amo...</td>\n",
       "    </tr>\n",
       "    <tr>\n",
       "      <th>2</th>\n",
       "      <td>3</td>\n",
       "      <td>2</td>\n",
       "      <td>lorichen</td>\n",
       "      <td>Listen treat keep worry. Miss husband tax but ...</td>\n",
       "    </tr>\n",
       "    <tr>\n",
       "      <th>3</th>\n",
       "      <td>4</td>\n",
       "      <td>3</td>\n",
       "      <td>johnsonamanda</td>\n",
       "      <td>Finally month interesting blue could nature cu...</td>\n",
       "    </tr>\n",
       "    <tr>\n",
       "      <th>4</th>\n",
       "      <td>5</td>\n",
       "      <td>3</td>\n",
       "      <td>scotttamara</td>\n",
       "      <td>Nation purpose heavy give wait song will. List...</td>\n",
       "    </tr>\n",
       "    <tr>\n",
       "      <th>5</th>\n",
       "      <td>6</td>\n",
       "      <td>3</td>\n",
       "      <td>lesliegibbs</td>\n",
       "      <td>Analysis no several cause international.</td>\n",
       "    </tr>\n",
       "    <tr>\n",
       "      <th>6</th>\n",
       "      <td>7</td>\n",
       "      <td>4</td>\n",
       "      <td>valenciaanne</td>\n",
       "      <td>One there cost another. Say type save. With pe...</td>\n",
       "    </tr>\n",
       "    <tr>\n",
       "      <th>7</th>\n",
       "      <td>8</td>\n",
       "      <td>4</td>\n",
       "      <td>abbottjames</td>\n",
       "      <td>Within enough mother. There at system full rec...</td>\n",
       "    </tr>\n",
       "    <tr>\n",
       "      <th>8</th>\n",
       "      <td>9</td>\n",
       "      <td>5</td>\n",
       "      <td>npowers</td>\n",
       "      <td>Thank now focus realize economy focus fly. Ite...</td>\n",
       "    </tr>\n",
       "    <tr>\n",
       "      <th>9</th>\n",
       "      <td>10</td>\n",
       "      <td>5</td>\n",
       "      <td>staylor</td>\n",
       "      <td>Game push lot reduce where remember. Including...</td>\n",
       "    </tr>\n",
       "  </tbody>\n",
       "</table>\n",
       "</div>"
      ],
      "text/plain": [
       "   review_id  book_id       username  \\\n",
       "0          1        1   brandtandrea   \n",
       "1          2        1     ryanfranco   \n",
       "2          3        2       lorichen   \n",
       "3          4        3  johnsonamanda   \n",
       "4          5        3    scotttamara   \n",
       "5          6        3    lesliegibbs   \n",
       "6          7        4   valenciaanne   \n",
       "7          8        4    abbottjames   \n",
       "8          9        5        npowers   \n",
       "9         10        5        staylor   \n",
       "\n",
       "                                                text  \n",
       "0  Mention society tell send professor analysis. ...  \n",
       "1  Foot glass pretty audience hit themselves. Amo...  \n",
       "2  Listen treat keep worry. Miss husband tax but ...  \n",
       "3  Finally month interesting blue could nature cu...  \n",
       "4  Nation purpose heavy give wait song will. List...  \n",
       "5           Analysis no several cause international.  \n",
       "6  One there cost another. Say type save. With pe...  \n",
       "7  Within enough mother. There at system full rec...  \n",
       "8  Thank now focus realize economy focus fly. Ite...  \n",
       "9  Game push lot reduce where remember. Including...  "
      ]
     },
     "metadata": {},
     "output_type": "display_data"
    },
    {
     "name": "stdout",
     "output_type": "stream",
     "text": [
      "ratings table\n"
     ]
    },
    {
     "data": {
      "text/html": [
       "<div>\n",
       "<style scoped>\n",
       "    .dataframe tbody tr th:only-of-type {\n",
       "        vertical-align: middle;\n",
       "    }\n",
       "\n",
       "    .dataframe tbody tr th {\n",
       "        vertical-align: top;\n",
       "    }\n",
       "\n",
       "    .dataframe thead th {\n",
       "        text-align: right;\n",
       "    }\n",
       "</style>\n",
       "<table border=\"1\" class=\"dataframe\">\n",
       "  <thead>\n",
       "    <tr style=\"text-align: right;\">\n",
       "      <th></th>\n",
       "      <th>rating_id</th>\n",
       "      <th>book_id</th>\n",
       "      <th>username</th>\n",
       "      <th>rating</th>\n",
       "    </tr>\n",
       "  </thead>\n",
       "  <tbody>\n",
       "    <tr>\n",
       "      <th>0</th>\n",
       "      <td>1</td>\n",
       "      <td>1</td>\n",
       "      <td>ryanfranco</td>\n",
       "      <td>4</td>\n",
       "    </tr>\n",
       "    <tr>\n",
       "      <th>1</th>\n",
       "      <td>2</td>\n",
       "      <td>1</td>\n",
       "      <td>grantpatricia</td>\n",
       "      <td>2</td>\n",
       "    </tr>\n",
       "    <tr>\n",
       "      <th>2</th>\n",
       "      <td>3</td>\n",
       "      <td>1</td>\n",
       "      <td>brandtandrea</td>\n",
       "      <td>5</td>\n",
       "    </tr>\n",
       "    <tr>\n",
       "      <th>3</th>\n",
       "      <td>4</td>\n",
       "      <td>2</td>\n",
       "      <td>lorichen</td>\n",
       "      <td>3</td>\n",
       "    </tr>\n",
       "    <tr>\n",
       "      <th>4</th>\n",
       "      <td>5</td>\n",
       "      <td>2</td>\n",
       "      <td>mariokeller</td>\n",
       "      <td>2</td>\n",
       "    </tr>\n",
       "    <tr>\n",
       "      <th>5</th>\n",
       "      <td>6</td>\n",
       "      <td>3</td>\n",
       "      <td>johnsonamanda</td>\n",
       "      <td>4</td>\n",
       "    </tr>\n",
       "    <tr>\n",
       "      <th>6</th>\n",
       "      <td>7</td>\n",
       "      <td>3</td>\n",
       "      <td>scotttamara</td>\n",
       "      <td>5</td>\n",
       "    </tr>\n",
       "    <tr>\n",
       "      <th>7</th>\n",
       "      <td>8</td>\n",
       "      <td>3</td>\n",
       "      <td>lesliegibbs</td>\n",
       "      <td>5</td>\n",
       "    </tr>\n",
       "    <tr>\n",
       "      <th>8</th>\n",
       "      <td>9</td>\n",
       "      <td>4</td>\n",
       "      <td>abbottjames</td>\n",
       "      <td>5</td>\n",
       "    </tr>\n",
       "    <tr>\n",
       "      <th>9</th>\n",
       "      <td>10</td>\n",
       "      <td>4</td>\n",
       "      <td>valenciaanne</td>\n",
       "      <td>4</td>\n",
       "    </tr>\n",
       "  </tbody>\n",
       "</table>\n",
       "</div>"
      ],
      "text/plain": [
       "   rating_id  book_id       username  rating\n",
       "0          1        1     ryanfranco       4\n",
       "1          2        1  grantpatricia       2\n",
       "2          3        1   brandtandrea       5\n",
       "3          4        2       lorichen       3\n",
       "4          5        2    mariokeller       2\n",
       "5          6        3  johnsonamanda       4\n",
       "6          7        3    scotttamara       5\n",
       "7          8        3    lesliegibbs       5\n",
       "8          9        4    abbottjames       5\n",
       "9         10        4   valenciaanne       4"
      ]
     },
     "metadata": {},
     "output_type": "display_data"
    },
    {
     "name": "stdout",
     "output_type": "stream",
     "text": [
      "publishers table\n"
     ]
    },
    {
     "data": {
      "text/html": [
       "<div>\n",
       "<style scoped>\n",
       "    .dataframe tbody tr th:only-of-type {\n",
       "        vertical-align: middle;\n",
       "    }\n",
       "\n",
       "    .dataframe tbody tr th {\n",
       "        vertical-align: top;\n",
       "    }\n",
       "\n",
       "    .dataframe thead th {\n",
       "        text-align: right;\n",
       "    }\n",
       "</style>\n",
       "<table border=\"1\" class=\"dataframe\">\n",
       "  <thead>\n",
       "    <tr style=\"text-align: right;\">\n",
       "      <th></th>\n",
       "      <th>publisher_id</th>\n",
       "      <th>publisher</th>\n",
       "    </tr>\n",
       "  </thead>\n",
       "  <tbody>\n",
       "    <tr>\n",
       "      <th>0</th>\n",
       "      <td>1</td>\n",
       "      <td>Ace</td>\n",
       "    </tr>\n",
       "    <tr>\n",
       "      <th>1</th>\n",
       "      <td>2</td>\n",
       "      <td>Ace Book</td>\n",
       "    </tr>\n",
       "    <tr>\n",
       "      <th>2</th>\n",
       "      <td>3</td>\n",
       "      <td>Ace Books</td>\n",
       "    </tr>\n",
       "    <tr>\n",
       "      <th>3</th>\n",
       "      <td>4</td>\n",
       "      <td>Ace Hardcover</td>\n",
       "    </tr>\n",
       "    <tr>\n",
       "      <th>4</th>\n",
       "      <td>5</td>\n",
       "      <td>Addison Wesley Publishing Company</td>\n",
       "    </tr>\n",
       "    <tr>\n",
       "      <th>5</th>\n",
       "      <td>6</td>\n",
       "      <td>Aladdin</td>\n",
       "    </tr>\n",
       "    <tr>\n",
       "      <th>6</th>\n",
       "      <td>7</td>\n",
       "      <td>Aladdin Paperbacks</td>\n",
       "    </tr>\n",
       "    <tr>\n",
       "      <th>7</th>\n",
       "      <td>8</td>\n",
       "      <td>Albin Michel</td>\n",
       "    </tr>\n",
       "    <tr>\n",
       "      <th>8</th>\n",
       "      <td>9</td>\n",
       "      <td>Alfred A. Knopf</td>\n",
       "    </tr>\n",
       "    <tr>\n",
       "      <th>9</th>\n",
       "      <td>10</td>\n",
       "      <td>Alfred A. Knopf Books for Young Readers</td>\n",
       "    </tr>\n",
       "  </tbody>\n",
       "</table>\n",
       "</div>"
      ],
      "text/plain": [
       "   publisher_id                                publisher\n",
       "0             1                                      Ace\n",
       "1             2                                 Ace Book\n",
       "2             3                                Ace Books\n",
       "3             4                            Ace Hardcover\n",
       "4             5        Addison Wesley Publishing Company\n",
       "5             6                                  Aladdin\n",
       "6             7                       Aladdin Paperbacks\n",
       "7             8                             Albin Michel\n",
       "8             9                          Alfred A. Knopf\n",
       "9            10  Alfred A. Knopf Books for Young Readers"
      ]
     },
     "metadata": {},
     "output_type": "display_data"
    },
    {
     "name": "stdout",
     "output_type": "stream",
     "text": [
      "authors table\n"
     ]
    },
    {
     "data": {
      "text/html": [
       "<div>\n",
       "<style scoped>\n",
       "    .dataframe tbody tr th:only-of-type {\n",
       "        vertical-align: middle;\n",
       "    }\n",
       "\n",
       "    .dataframe tbody tr th {\n",
       "        vertical-align: top;\n",
       "    }\n",
       "\n",
       "    .dataframe thead th {\n",
       "        text-align: right;\n",
       "    }\n",
       "</style>\n",
       "<table border=\"1\" class=\"dataframe\">\n",
       "  <thead>\n",
       "    <tr style=\"text-align: right;\">\n",
       "      <th></th>\n",
       "      <th>author_id</th>\n",
       "      <th>author</th>\n",
       "    </tr>\n",
       "  </thead>\n",
       "  <tbody>\n",
       "    <tr>\n",
       "      <th>0</th>\n",
       "      <td>1</td>\n",
       "      <td>A.S. Byatt</td>\n",
       "    </tr>\n",
       "    <tr>\n",
       "      <th>1</th>\n",
       "      <td>2</td>\n",
       "      <td>Aesop/Laura Harris/Laura Gibbs</td>\n",
       "    </tr>\n",
       "    <tr>\n",
       "      <th>2</th>\n",
       "      <td>3</td>\n",
       "      <td>Agatha Christie</td>\n",
       "    </tr>\n",
       "    <tr>\n",
       "      <th>3</th>\n",
       "      <td>4</td>\n",
       "      <td>Alan Brennert</td>\n",
       "    </tr>\n",
       "    <tr>\n",
       "      <th>4</th>\n",
       "      <td>5</td>\n",
       "      <td>Alan Moore/David   Lloyd</td>\n",
       "    </tr>\n",
       "    <tr>\n",
       "      <th>5</th>\n",
       "      <td>6</td>\n",
       "      <td>Alan Paton</td>\n",
       "    </tr>\n",
       "    <tr>\n",
       "      <th>6</th>\n",
       "      <td>7</td>\n",
       "      <td>Albert Camus/Justin O'Brien</td>\n",
       "    </tr>\n",
       "    <tr>\n",
       "      <th>7</th>\n",
       "      <td>8</td>\n",
       "      <td>Aldous Huxley</td>\n",
       "    </tr>\n",
       "    <tr>\n",
       "      <th>8</th>\n",
       "      <td>9</td>\n",
       "      <td>Aldous Huxley/Christopher Hitchens</td>\n",
       "    </tr>\n",
       "    <tr>\n",
       "      <th>9</th>\n",
       "      <td>10</td>\n",
       "      <td>Aleksandr Solzhenitsyn/H.T. Willetts</td>\n",
       "    </tr>\n",
       "  </tbody>\n",
       "</table>\n",
       "</div>"
      ],
      "text/plain": [
       "   author_id                                author\n",
       "0          1                            A.S. Byatt\n",
       "1          2        Aesop/Laura Harris/Laura Gibbs\n",
       "2          3                       Agatha Christie\n",
       "3          4                         Alan Brennert\n",
       "4          5              Alan Moore/David   Lloyd\n",
       "5          6                            Alan Paton\n",
       "6          7           Albert Camus/Justin O'Brien\n",
       "7          8                         Aldous Huxley\n",
       "8          9    Aldous Huxley/Christopher Hitchens\n",
       "9         10  Aleksandr Solzhenitsyn/H.T. Willetts"
      ]
     },
     "metadata": {},
     "output_type": "display_data"
    }
   ],
   "source": [
    "table = ['books', 'reviews', 'ratings', 'publishers','authors']\n",
    "\n",
    "for i in table:\n",
    "    print(\"{} table\".format(i))\n",
    "    query = ''' SELECT *\n",
    "                   FROM {}\n",
    "                   LIMIT 10;\n",
    "               '''.format (i)\n",
    "    display(pd.read_sql_query(query, con=engine))"
   ]
  },
  {
   "cell_type": "markdown",
   "id": "21107a5a",
   "metadata": {},
   "source": [
    "we explored our tables on the database, now let's start finding results for our tasks"
   ]
  },
  {
   "cell_type": "markdown",
   "id": "c25982e1",
   "metadata": {},
   "source": [
    "## TASK 1\n",
    "Find the number of books released after January 1, 2000."
   ]
  },
  {
   "cell_type": "code",
   "execution_count": 4,
   "id": "8692be81",
   "metadata": {},
   "outputs": [],
   "source": [
    "query= ''' SELECT COUNT(title)\n",
    "           FROM books\n",
    "           WHERE publication_date > '2000-01-01';\n",
    "        '''"
   ]
  },
  {
   "cell_type": "code",
   "execution_count": 5,
   "id": "6e5ad5c7",
   "metadata": {},
   "outputs": [
    {
     "data": {
      "text/html": [
       "<div>\n",
       "<style scoped>\n",
       "    .dataframe tbody tr th:only-of-type {\n",
       "        vertical-align: middle;\n",
       "    }\n",
       "\n",
       "    .dataframe tbody tr th {\n",
       "        vertical-align: top;\n",
       "    }\n",
       "\n",
       "    .dataframe thead th {\n",
       "        text-align: right;\n",
       "    }\n",
       "</style>\n",
       "<table border=\"1\" class=\"dataframe\">\n",
       "  <thead>\n",
       "    <tr style=\"text-align: right;\">\n",
       "      <th></th>\n",
       "      <th>count</th>\n",
       "    </tr>\n",
       "  </thead>\n",
       "  <tbody>\n",
       "    <tr>\n",
       "      <th>0</th>\n",
       "      <td>819</td>\n",
       "    </tr>\n",
       "  </tbody>\n",
       "</table>\n",
       "</div>"
      ],
      "text/plain": [
       "   count\n",
       "0    819"
      ]
     },
     "execution_count": 5,
     "metadata": {},
     "output_type": "execute_result"
    }
   ],
   "source": [
    "t1= pd.io.sql.read_sql(query, con = engine)\n",
    "t1"
   ]
  },
  {
   "cell_type": "markdown",
   "id": "849b7311",
   "metadata": {},
   "source": [
    "the answer for the first task is that we have 819 books that were released after 1/1/2000 "
   ]
  },
  {
   "cell_type": "markdown",
   "id": "a5eb2a9d",
   "metadata": {},
   "source": [
    "## TASK 2\n",
    "Find the number of user reviews and the average rating for each book."
   ]
  },
  {
   "cell_type": "code",
   "execution_count": 6,
   "id": "475251e9",
   "metadata": {},
   "outputs": [],
   "source": [
    "query=''' SELECT b.title,\n",
    "                 COUNT(r.review_id) AS reviews,\n",
    "                 AVG(ra.rating) AS rating\n",
    "          FROM books AS b\n",
    "          LEFT JOIN reviews AS r ON b.book_id = r.book_id\n",
    "          LEFT JOIN ratings AS ra on b.book_id = ra.book_id\n",
    "         GROUP BY b.book_id\n",
    "         ORDER BY COUNT(r.review_id)DESC\n",
    "          LIMIT 10 ;\n",
    "        '''\n",
    "          "
   ]
  },
  {
   "cell_type": "code",
   "execution_count": 7,
   "id": "a020276d",
   "metadata": {},
   "outputs": [
    {
     "data": {
      "text/html": [
       "<div>\n",
       "<style scoped>\n",
       "    .dataframe tbody tr th:only-of-type {\n",
       "        vertical-align: middle;\n",
       "    }\n",
       "\n",
       "    .dataframe tbody tr th {\n",
       "        vertical-align: top;\n",
       "    }\n",
       "\n",
       "    .dataframe thead th {\n",
       "        text-align: right;\n",
       "    }\n",
       "</style>\n",
       "<table border=\"1\" class=\"dataframe\">\n",
       "  <thead>\n",
       "    <tr style=\"text-align: right;\">\n",
       "      <th></th>\n",
       "      <th>title</th>\n",
       "      <th>reviews</th>\n",
       "      <th>rating</th>\n",
       "    </tr>\n",
       "  </thead>\n",
       "  <tbody>\n",
       "    <tr>\n",
       "      <th>0</th>\n",
       "      <td>Twilight (Twilight  #1)</td>\n",
       "      <td>1120</td>\n",
       "      <td>3.662500</td>\n",
       "    </tr>\n",
       "    <tr>\n",
       "      <th>1</th>\n",
       "      <td>The Hobbit  or There and Back Again</td>\n",
       "      <td>528</td>\n",
       "      <td>4.125000</td>\n",
       "    </tr>\n",
       "    <tr>\n",
       "      <th>2</th>\n",
       "      <td>The Catcher in the Rye</td>\n",
       "      <td>516</td>\n",
       "      <td>3.825581</td>\n",
       "    </tr>\n",
       "    <tr>\n",
       "      <th>3</th>\n",
       "      <td>Harry Potter and the Prisoner of Azkaban (Harr...</td>\n",
       "      <td>492</td>\n",
       "      <td>4.414634</td>\n",
       "    </tr>\n",
       "    <tr>\n",
       "      <th>4</th>\n",
       "      <td>Harry Potter and the Chamber of Secrets (Harry...</td>\n",
       "      <td>480</td>\n",
       "      <td>4.287500</td>\n",
       "    </tr>\n",
       "    <tr>\n",
       "      <th>5</th>\n",
       "      <td>Angels &amp; Demons (Robert Langdon  #1)</td>\n",
       "      <td>420</td>\n",
       "      <td>3.678571</td>\n",
       "    </tr>\n",
       "    <tr>\n",
       "      <th>6</th>\n",
       "      <td>Harry Potter and the Order of the Phoenix (Har...</td>\n",
       "      <td>375</td>\n",
       "      <td>4.186667</td>\n",
       "    </tr>\n",
       "    <tr>\n",
       "      <th>7</th>\n",
       "      <td>The Lightning Thief (Percy Jackson and the Oly...</td>\n",
       "      <td>372</td>\n",
       "      <td>4.080645</td>\n",
       "    </tr>\n",
       "    <tr>\n",
       "      <th>8</th>\n",
       "      <td>The Fellowship of the Ring (The Lord of the Ri...</td>\n",
       "      <td>370</td>\n",
       "      <td>4.391892</td>\n",
       "    </tr>\n",
       "    <tr>\n",
       "      <th>9</th>\n",
       "      <td>Animal Farm</td>\n",
       "      <td>370</td>\n",
       "      <td>3.729730</td>\n",
       "    </tr>\n",
       "  </tbody>\n",
       "</table>\n",
       "</div>"
      ],
      "text/plain": [
       "                                               title  reviews    rating\n",
       "0                            Twilight (Twilight  #1)     1120  3.662500\n",
       "1                The Hobbit  or There and Back Again      528  4.125000\n",
       "2                             The Catcher in the Rye      516  3.825581\n",
       "3  Harry Potter and the Prisoner of Azkaban (Harr...      492  4.414634\n",
       "4  Harry Potter and the Chamber of Secrets (Harry...      480  4.287500\n",
       "5               Angels & Demons (Robert Langdon  #1)      420  3.678571\n",
       "6  Harry Potter and the Order of the Phoenix (Har...      375  4.186667\n",
       "7  The Lightning Thief (Percy Jackson and the Oly...      372  4.080645\n",
       "8  The Fellowship of the Ring (The Lord of the Ri...      370  4.391892\n",
       "9                                        Animal Farm      370  3.729730"
      ]
     },
     "execution_count": 7,
     "metadata": {},
     "output_type": "execute_result"
    }
   ],
   "source": [
    "t2=pd.io.sql.read_sql(query, con = engine)\n",
    "t2"
   ]
  },
  {
   "cell_type": "markdown",
   "id": "86ff3adc",
   "metadata": {},
   "source": [
    "in this table we can see the most reviews that books got and the top 5 are Twillight, The Hobbit, The catcher in the Rye and 2 Harry potter's. to check the rating is too hard in order with reviews so we will do that in the next table"
   ]
  },
  {
   "cell_type": "code",
   "execution_count": 8,
   "id": "1e58f99e",
   "metadata": {},
   "outputs": [],
   "source": [
    "query=''' SELECT b.title,\n",
    "                 COUNT(r.review_id) AS reviews,\n",
    "                 AVG(ra.rating) AS rating\n",
    "          FROM books AS b\n",
    "          LEFT JOIN reviews AS r ON b.book_id = r.book_id\n",
    "          LEFT JOIN ratings AS ra on b.book_id = ra.book_id\n",
    "         GROUP BY b.book_id\n",
    "         ORDER BY AVG(ra.rating) DESC, COUNT(r.review_id) DESC\n",
    "         LIMIT 10 ;\n",
    "        '''\n",
    "          "
   ]
  },
  {
   "cell_type": "code",
   "execution_count": 9,
   "id": "04c26167",
   "metadata": {},
   "outputs": [
    {
     "data": {
      "text/html": [
       "<div>\n",
       "<style scoped>\n",
       "    .dataframe tbody tr th:only-of-type {\n",
       "        vertical-align: middle;\n",
       "    }\n",
       "\n",
       "    .dataframe tbody tr th {\n",
       "        vertical-align: top;\n",
       "    }\n",
       "\n",
       "    .dataframe thead th {\n",
       "        text-align: right;\n",
       "    }\n",
       "</style>\n",
       "<table border=\"1\" class=\"dataframe\">\n",
       "  <thead>\n",
       "    <tr style=\"text-align: right;\">\n",
       "      <th></th>\n",
       "      <th>title</th>\n",
       "      <th>reviews</th>\n",
       "      <th>rating</th>\n",
       "    </tr>\n",
       "  </thead>\n",
       "  <tbody>\n",
       "    <tr>\n",
       "      <th>0</th>\n",
       "      <td>A Dirty Job (Grim Reaper  #1)</td>\n",
       "      <td>16</td>\n",
       "      <td>5.0</td>\n",
       "    </tr>\n",
       "    <tr>\n",
       "      <th>1</th>\n",
       "      <td>School's Out—Forever (Maximum Ride  #2)</td>\n",
       "      <td>12</td>\n",
       "      <td>5.0</td>\n",
       "    </tr>\n",
       "    <tr>\n",
       "      <th>2</th>\n",
       "      <td>Moneyball: The Art of Winning an Unfair Game</td>\n",
       "      <td>9</td>\n",
       "      <td>5.0</td>\n",
       "    </tr>\n",
       "    <tr>\n",
       "      <th>3</th>\n",
       "      <td>In the Hand of the Goddess (Song of the Liones...</td>\n",
       "      <td>6</td>\n",
       "      <td>5.0</td>\n",
       "    </tr>\n",
       "    <tr>\n",
       "      <th>4</th>\n",
       "      <td>March</td>\n",
       "      <td>4</td>\n",
       "      <td>5.0</td>\n",
       "    </tr>\n",
       "    <tr>\n",
       "      <th>5</th>\n",
       "      <td>Light in August</td>\n",
       "      <td>4</td>\n",
       "      <td>5.0</td>\n",
       "    </tr>\n",
       "    <tr>\n",
       "      <th>6</th>\n",
       "      <td>Evening Class</td>\n",
       "      <td>4</td>\n",
       "      <td>5.0</td>\n",
       "    </tr>\n",
       "    <tr>\n",
       "      <th>7</th>\n",
       "      <td>Dead Souls</td>\n",
       "      <td>4</td>\n",
       "      <td>5.0</td>\n",
       "    </tr>\n",
       "    <tr>\n",
       "      <th>8</th>\n",
       "      <td>Wherever You Go  There You Are: Mindfulness Me...</td>\n",
       "      <td>4</td>\n",
       "      <td>5.0</td>\n",
       "    </tr>\n",
       "    <tr>\n",
       "      <th>9</th>\n",
       "      <td>Act of Treason (Mitch Rapp  #9)</td>\n",
       "      <td>4</td>\n",
       "      <td>5.0</td>\n",
       "    </tr>\n",
       "  </tbody>\n",
       "</table>\n",
       "</div>"
      ],
      "text/plain": [
       "                                               title  reviews  rating\n",
       "0                      A Dirty Job (Grim Reaper  #1)       16     5.0\n",
       "1            School's Out—Forever (Maximum Ride  #2)       12     5.0\n",
       "2       Moneyball: The Art of Winning an Unfair Game        9     5.0\n",
       "3  In the Hand of the Goddess (Song of the Liones...        6     5.0\n",
       "4                                              March        4     5.0\n",
       "5                                    Light in August        4     5.0\n",
       "6                                      Evening Class        4     5.0\n",
       "7                                         Dead Souls        4     5.0\n",
       "8  Wherever You Go  There You Are: Mindfulness Me...        4     5.0\n",
       "9                    Act of Treason (Mitch Rapp  #9)        4     5.0"
      ]
     },
     "execution_count": 9,
     "metadata": {},
     "output_type": "execute_result"
    }
   ],
   "source": [
    "t2a=pd.io.sql.read_sql(query, con = engine)\n",
    "t2a"
   ]
  },
  {
   "cell_type": "markdown",
   "id": "f30c32f0",
   "metadata": {},
   "source": [
    "here we have the most rated books with a openninf high five with  A dirty job, school's out- forever, moneyball: the art of winning an unfair game, in the hand of a goddess and tai- pan."
   ]
  },
  {
   "cell_type": "markdown",
   "id": "66f4ebc5",
   "metadata": {},
   "source": [
    "## TASK 3\n",
    "Identify the publisher that has released the greatest number of books with more than 50 pages "
   ]
  },
  {
   "cell_type": "code",
   "execution_count": 10,
   "id": "31d67946",
   "metadata": {},
   "outputs": [],
   "source": [
    "query = ''' SELECT p.publisher,\n",
    "                   COUNT(b.book_id)\n",
    "            FROM books AS b\n",
    "            LEFT JOIN publishers AS p ON b.publisher_id =p.publisher_id\n",
    "            WHERE b.num_pages>50\n",
    "            GROUP BY p.publisher\n",
    "            ORDER BY COUNT(b.book_id) DESC\n",
    "            LIMIT 8;\n",
    "        '''\n",
    "            "
   ]
  },
  {
   "cell_type": "code",
   "execution_count": 11,
   "id": "12db30db",
   "metadata": {},
   "outputs": [
    {
     "data": {
      "text/html": [
       "<div>\n",
       "<style scoped>\n",
       "    .dataframe tbody tr th:only-of-type {\n",
       "        vertical-align: middle;\n",
       "    }\n",
       "\n",
       "    .dataframe tbody tr th {\n",
       "        vertical-align: top;\n",
       "    }\n",
       "\n",
       "    .dataframe thead th {\n",
       "        text-align: right;\n",
       "    }\n",
       "</style>\n",
       "<table border=\"1\" class=\"dataframe\">\n",
       "  <thead>\n",
       "    <tr style=\"text-align: right;\">\n",
       "      <th></th>\n",
       "      <th>publisher</th>\n",
       "      <th>count</th>\n",
       "    </tr>\n",
       "  </thead>\n",
       "  <tbody>\n",
       "    <tr>\n",
       "      <th>0</th>\n",
       "      <td>Penguin Books</td>\n",
       "      <td>42</td>\n",
       "    </tr>\n",
       "    <tr>\n",
       "      <th>1</th>\n",
       "      <td>Vintage</td>\n",
       "      <td>31</td>\n",
       "    </tr>\n",
       "    <tr>\n",
       "      <th>2</th>\n",
       "      <td>Grand Central Publishing</td>\n",
       "      <td>25</td>\n",
       "    </tr>\n",
       "    <tr>\n",
       "      <th>3</th>\n",
       "      <td>Penguin Classics</td>\n",
       "      <td>24</td>\n",
       "    </tr>\n",
       "    <tr>\n",
       "      <th>4</th>\n",
       "      <td>Ballantine Books</td>\n",
       "      <td>19</td>\n",
       "    </tr>\n",
       "    <tr>\n",
       "      <th>5</th>\n",
       "      <td>Bantam</td>\n",
       "      <td>19</td>\n",
       "    </tr>\n",
       "    <tr>\n",
       "      <th>6</th>\n",
       "      <td>Berkley</td>\n",
       "      <td>17</td>\n",
       "    </tr>\n",
       "    <tr>\n",
       "      <th>7</th>\n",
       "      <td>St. Martin's Press</td>\n",
       "      <td>14</td>\n",
       "    </tr>\n",
       "  </tbody>\n",
       "</table>\n",
       "</div>"
      ],
      "text/plain": [
       "                  publisher  count\n",
       "0             Penguin Books     42\n",
       "1                   Vintage     31\n",
       "2  Grand Central Publishing     25\n",
       "3          Penguin Classics     24\n",
       "4          Ballantine Books     19\n",
       "5                    Bantam     19\n",
       "6                   Berkley     17\n",
       "7        St. Martin's Press     14"
      ]
     },
     "execution_count": 11,
     "metadata": {},
     "output_type": "execute_result"
    }
   ],
   "source": [
    "t3=pd.io.sql.read_sql(query, con = engine)\n",
    "t3"
   ]
  },
  {
   "cell_type": "markdown",
   "id": "3f77f195",
   "metadata": {},
   "source": [
    "and the most saller publushung for greater than 50 pages books is-- penguin books and right after them is vintage books.\n",
    "this publishers are big and known so that maybe was obviyes"
   ]
  },
  {
   "cell_type": "markdown",
   "id": "a0690ccf",
   "metadata": {},
   "source": [
    "## TASK 4\n",
    "Identify the author with the highest average book rating"
   ]
  },
  {
   "cell_type": "code",
   "execution_count": 12,
   "id": "b31dc9ca",
   "metadata": {},
   "outputs": [],
   "source": [
    "query= ''' SELECT a.author,\n",
    "                  AVG(r.rating)\n",
    "           FROM books AS b\n",
    "           LEFT JOIN authors AS a ON b.author_id=a.author_id\n",
    "           LEFT JOIN ratings AS r ON b.book_id = r.book_id\n",
    "           GROUP BY a.author\n",
    "           HAVING COUNT(r.rating) >= 50\n",
    "           ORDER BY AVG(r.rating) DESC;\n",
    "           '''"
   ]
  },
  {
   "cell_type": "code",
   "execution_count": 13,
   "id": "82c0e8c6",
   "metadata": {},
   "outputs": [
    {
     "data": {
      "text/html": [
       "<div>\n",
       "<style scoped>\n",
       "    .dataframe tbody tr th:only-of-type {\n",
       "        vertical-align: middle;\n",
       "    }\n",
       "\n",
       "    .dataframe tbody tr th {\n",
       "        vertical-align: top;\n",
       "    }\n",
       "\n",
       "    .dataframe thead th {\n",
       "        text-align: right;\n",
       "    }\n",
       "</style>\n",
       "<table border=\"1\" class=\"dataframe\">\n",
       "  <thead>\n",
       "    <tr style=\"text-align: right;\">\n",
       "      <th></th>\n",
       "      <th>author</th>\n",
       "      <th>avg</th>\n",
       "    </tr>\n",
       "  </thead>\n",
       "  <tbody>\n",
       "    <tr>\n",
       "      <th>0</th>\n",
       "      <td>Diana Gabaldon</td>\n",
       "      <td>4.300000</td>\n",
       "    </tr>\n",
       "    <tr>\n",
       "      <th>1</th>\n",
       "      <td>J.K. Rowling/Mary GrandPré</td>\n",
       "      <td>4.288462</td>\n",
       "    </tr>\n",
       "    <tr>\n",
       "      <th>2</th>\n",
       "      <td>Agatha Christie</td>\n",
       "      <td>4.283019</td>\n",
       "    </tr>\n",
       "    <tr>\n",
       "      <th>3</th>\n",
       "      <td>Markus Zusak/Cao Xuân Việt Khương</td>\n",
       "      <td>4.264151</td>\n",
       "    </tr>\n",
       "    <tr>\n",
       "      <th>4</th>\n",
       "      <td>J.R.R. Tolkien</td>\n",
       "      <td>4.240964</td>\n",
       "    </tr>\n",
       "    <tr>\n",
       "      <th>5</th>\n",
       "      <td>Roald Dahl/Quentin Blake</td>\n",
       "      <td>4.209677</td>\n",
       "    </tr>\n",
       "    <tr>\n",
       "      <th>6</th>\n",
       "      <td>Louisa May Alcott</td>\n",
       "      <td>4.203704</td>\n",
       "    </tr>\n",
       "    <tr>\n",
       "      <th>7</th>\n",
       "      <td>Rick Riordan</td>\n",
       "      <td>4.130952</td>\n",
       "    </tr>\n",
       "    <tr>\n",
       "      <th>8</th>\n",
       "      <td>Arthur Golden</td>\n",
       "      <td>4.107143</td>\n",
       "    </tr>\n",
       "    <tr>\n",
       "      <th>9</th>\n",
       "      <td>Stephen King</td>\n",
       "      <td>4.009434</td>\n",
       "    </tr>\n",
       "    <tr>\n",
       "      <th>10</th>\n",
       "      <td>John Grisham</td>\n",
       "      <td>3.971429</td>\n",
       "    </tr>\n",
       "    <tr>\n",
       "      <th>11</th>\n",
       "      <td>William Golding</td>\n",
       "      <td>3.901408</td>\n",
       "    </tr>\n",
       "    <tr>\n",
       "      <th>12</th>\n",
       "      <td>Nicholas Sparks</td>\n",
       "      <td>3.882883</td>\n",
       "    </tr>\n",
       "    <tr>\n",
       "      <th>13</th>\n",
       "      <td>Jodi Picoult</td>\n",
       "      <td>3.881579</td>\n",
       "    </tr>\n",
       "    <tr>\n",
       "      <th>14</th>\n",
       "      <td>Sophie Kinsella</td>\n",
       "      <td>3.877193</td>\n",
       "    </tr>\n",
       "    <tr>\n",
       "      <th>15</th>\n",
       "      <td>James Patterson</td>\n",
       "      <td>3.859375</td>\n",
       "    </tr>\n",
       "    <tr>\n",
       "      <th>16</th>\n",
       "      <td>J.D. Salinger</td>\n",
       "      <td>3.846939</td>\n",
       "    </tr>\n",
       "    <tr>\n",
       "      <th>17</th>\n",
       "      <td>Paulo Coelho/Alan R. Clarke/Özdemir İnce</td>\n",
       "      <td>3.789474</td>\n",
       "    </tr>\n",
       "    <tr>\n",
       "      <th>18</th>\n",
       "      <td>William Shakespeare/Paul Werstine/Barbara A. M...</td>\n",
       "      <td>3.787879</td>\n",
       "    </tr>\n",
       "    <tr>\n",
       "      <th>19</th>\n",
       "      <td>Dan Brown</td>\n",
       "      <td>3.741259</td>\n",
       "    </tr>\n",
       "    <tr>\n",
       "      <th>20</th>\n",
       "      <td>Lois Lowry</td>\n",
       "      <td>3.738462</td>\n",
       "    </tr>\n",
       "    <tr>\n",
       "      <th>21</th>\n",
       "      <td>George Orwell/Boris Grabnar/Peter Škerl</td>\n",
       "      <td>3.729730</td>\n",
       "    </tr>\n",
       "    <tr>\n",
       "      <th>22</th>\n",
       "      <td>Stephenie Meyer</td>\n",
       "      <td>3.662500</td>\n",
       "    </tr>\n",
       "    <tr>\n",
       "      <th>23</th>\n",
       "      <td>John Steinbeck</td>\n",
       "      <td>3.643836</td>\n",
       "    </tr>\n",
       "  </tbody>\n",
       "</table>\n",
       "</div>"
      ],
      "text/plain": [
       "                                               author       avg\n",
       "0                                      Diana Gabaldon  4.300000\n",
       "1                          J.K. Rowling/Mary GrandPré  4.288462\n",
       "2                                     Agatha Christie  4.283019\n",
       "3                   Markus Zusak/Cao Xuân Việt Khương  4.264151\n",
       "4                                      J.R.R. Tolkien  4.240964\n",
       "5                            Roald Dahl/Quentin Blake  4.209677\n",
       "6                                   Louisa May Alcott  4.203704\n",
       "7                                        Rick Riordan  4.130952\n",
       "8                                       Arthur Golden  4.107143\n",
       "9                                        Stephen King  4.009434\n",
       "10                                       John Grisham  3.971429\n",
       "11                                    William Golding  3.901408\n",
       "12                                    Nicholas Sparks  3.882883\n",
       "13                                       Jodi Picoult  3.881579\n",
       "14                                    Sophie Kinsella  3.877193\n",
       "15                                    James Patterson  3.859375\n",
       "16                                      J.D. Salinger  3.846939\n",
       "17           Paulo Coelho/Alan R. Clarke/Özdemir İnce  3.789474\n",
       "18  William Shakespeare/Paul Werstine/Barbara A. M...  3.787879\n",
       "19                                          Dan Brown  3.741259\n",
       "20                                         Lois Lowry  3.738462\n",
       "21            George Orwell/Boris Grabnar/Peter Škerl  3.729730\n",
       "22                                    Stephenie Meyer  3.662500\n",
       "23                                     John Steinbeck  3.643836"
      ]
     },
     "execution_count": 13,
     "metadata": {},
     "output_type": "execute_result"
    }
   ],
   "source": [
    "t4= pd.io.sql.read_sql(query, con = engine)\n",
    "t4"
   ]
  },
  {
   "cell_type": "markdown",
   "id": "072fb6ae",
   "metadata": {},
   "source": [
    "the most raited author is not less than  Diana Gabaldon (that i personlly never heard of) and after here comes the famoues J.K.Rowling and Mary Grandpre."
   ]
  },
  {
   "cell_type": "markdown",
   "id": "ec1222a2",
   "metadata": {},
   "source": [
    "## TASK 5\n",
    " Find the average number of text reviews among users who rated more than 50 books."
   ]
  },
  {
   "cell_type": "code",
   "execution_count": 14,
   "id": "4783053e",
   "metadata": {},
   "outputs": [],
   "source": [
    "query='''SELECT AVG(i.t) \n",
    "         FROM (SELECT COUNT(text) AS t, \n",
    "               username \n",
    "            FROM reviews GROUP BY username) AS i\n",
    "         RIGHT JOIN (SELECT username \n",
    "                         FROM ratings \n",
    "                         GROUP BY ratings.username\n",
    "                         HAVING COUNT(rating)>50) AS c ON i.username = c.username;\n",
    "    '''"
   ]
  },
  {
   "cell_type": "code",
   "execution_count": 15,
   "id": "90075a15",
   "metadata": {},
   "outputs": [
    {
     "data": {
      "text/html": [
       "<div>\n",
       "<style scoped>\n",
       "    .dataframe tbody tr th:only-of-type {\n",
       "        vertical-align: middle;\n",
       "    }\n",
       "\n",
       "    .dataframe tbody tr th {\n",
       "        vertical-align: top;\n",
       "    }\n",
       "\n",
       "    .dataframe thead th {\n",
       "        text-align: right;\n",
       "    }\n",
       "</style>\n",
       "<table border=\"1\" class=\"dataframe\">\n",
       "  <thead>\n",
       "    <tr style=\"text-align: right;\">\n",
       "      <th></th>\n",
       "      <th>avg</th>\n",
       "    </tr>\n",
       "  </thead>\n",
       "  <tbody>\n",
       "    <tr>\n",
       "      <th>0</th>\n",
       "      <td>24.333333</td>\n",
       "    </tr>\n",
       "  </tbody>\n",
       "</table>\n",
       "</div>"
      ],
      "text/plain": [
       "         avg\n",
       "0  24.333333"
      ]
     },
     "execution_count": 15,
     "metadata": {},
     "output_type": "execute_result"
    }
   ],
   "source": [
    "t5= pd.io.sql.read_sql(query, con = engine)\n",
    "t5"
   ]
  },
  {
   "cell_type": "markdown",
   "id": "7f7072b0",
   "metadata": {},
   "source": [
    "the avrage text reviews for user how raites is 24.3 ratings "
   ]
  },
  {
   "cell_type": "markdown",
   "id": "c273450b",
   "metadata": {},
   "source": [
    "so we looked up the DB and learned about books reviews and sales and know we have answers for marketing our app better"
   ]
  },
  {
   "cell_type": "code",
   "execution_count": null,
   "id": "c5d66ebe",
   "metadata": {},
   "outputs": [],
   "source": []
  }
 ],
 "metadata": {
  "ExecuteTimeLog": [
   {
    "duration": 25547,
    "start_time": "2022-06-22T11:25:38.365Z"
   },
   {
    "duration": 9700,
    "start_time": "2022-06-22T11:26:03.914Z"
   },
   {
    "duration": 395,
    "start_time": "2022-06-22T11:26:13.616Z"
   },
   {
    "duration": 3,
    "start_time": "2022-06-22T11:26:14.013Z"
   },
   {
    "duration": 94,
    "start_time": "2022-06-22T11:26:14.017Z"
   },
   {
    "duration": 3,
    "start_time": "2022-06-22T11:26:14.112Z"
   },
   {
    "duration": 134,
    "start_time": "2022-06-22T11:26:14.117Z"
   },
   {
    "duration": 3,
    "start_time": "2022-06-22T11:26:14.253Z"
   },
   {
    "duration": 128,
    "start_time": "2022-06-22T11:26:14.257Z"
   },
   {
    "duration": 2,
    "start_time": "2022-06-22T11:26:14.387Z"
   },
   {
    "duration": 96,
    "start_time": "2022-06-22T11:26:14.391Z"
   },
   {
    "duration": 2,
    "start_time": "2022-06-22T11:26:14.489Z"
   },
   {
    "duration": 93,
    "start_time": "2022-06-22T11:26:14.492Z"
   },
   {
    "duration": 2,
    "start_time": "2022-06-22T11:26:14.587Z"
   },
   {
    "duration": 97,
    "start_time": "2022-06-22T11:26:14.590Z"
   },
   {
    "duration": 3,
    "start_time": "2022-06-22T11:27:12.523Z"
   },
   {
    "duration": 9916,
    "start_time": "2022-06-22T11:27:12.528Z"
   },
   {
    "duration": 374,
    "start_time": "2022-06-22T11:27:22.446Z"
   },
   {
    "duration": 2,
    "start_time": "2022-06-22T11:27:22.822Z"
   },
   {
    "duration": 77,
    "start_time": "2022-06-22T11:27:22.825Z"
   },
   {
    "duration": 3,
    "start_time": "2022-06-22T11:27:22.903Z"
   },
   {
    "duration": 117,
    "start_time": "2022-06-22T11:27:22.907Z"
   },
   {
    "duration": 4,
    "start_time": "2022-06-22T11:27:23.025Z"
   },
   {
    "duration": 101,
    "start_time": "2022-06-22T11:27:23.031Z"
   },
   {
    "duration": 3,
    "start_time": "2022-06-22T11:27:23.134Z"
   },
   {
    "duration": 89,
    "start_time": "2022-06-22T11:27:23.138Z"
   },
   {
    "duration": 3,
    "start_time": "2022-06-22T11:27:23.228Z"
   },
   {
    "duration": 86,
    "start_time": "2022-06-22T11:27:23.233Z"
   },
   {
    "duration": 3,
    "start_time": "2022-06-22T11:27:23.321Z"
   },
   {
    "duration": 88,
    "start_time": "2022-06-22T11:27:23.326Z"
   },
   {
    "duration": 3,
    "start_time": "2022-06-22T11:47:02.668Z"
   },
   {
    "duration": 880,
    "start_time": "2022-06-22T11:47:05.748Z"
   },
   {
    "duration": 2,
    "start_time": "2022-06-22T11:47:22.355Z"
   },
   {
    "duration": 78,
    "start_time": "2022-06-22T11:47:23.223Z"
   },
   {
    "duration": 8,
    "start_time": "2022-06-22T14:44:55.097Z"
   },
   {
    "duration": 3,
    "start_time": "2022-06-22T14:45:18.814Z"
   },
   {
    "duration": 7188,
    "start_time": "2022-06-22T14:45:18.821Z"
   },
   {
    "duration": 374,
    "start_time": "2022-06-22T14:45:26.011Z"
   },
   {
    "duration": 2,
    "start_time": "2022-06-22T14:45:26.387Z"
   },
   {
    "duration": 86,
    "start_time": "2022-06-22T14:45:26.392Z"
   },
   {
    "duration": 3,
    "start_time": "2022-06-22T14:45:26.479Z"
   },
   {
    "duration": 143,
    "start_time": "2022-06-22T14:45:26.484Z"
   },
   {
    "duration": 2,
    "start_time": "2022-06-22T14:45:26.629Z"
   },
   {
    "duration": 101,
    "start_time": "2022-06-22T14:45:26.633Z"
   },
   {
    "duration": 3,
    "start_time": "2022-06-22T14:45:26.735Z"
   },
   {
    "duration": 75,
    "start_time": "2022-06-22T14:45:26.740Z"
   },
   {
    "duration": 3,
    "start_time": "2022-06-22T14:45:26.817Z"
   },
   {
    "duration": 80,
    "start_time": "2022-06-22T14:45:26.822Z"
   },
   {
    "duration": 3,
    "start_time": "2022-06-22T14:45:26.904Z"
   },
   {
    "duration": 217,
    "start_time": "2022-06-22T14:46:10.306Z"
   },
   {
    "duration": 4,
    "start_time": "2022-06-22T14:47:12.209Z"
   },
   {
    "duration": 90,
    "start_time": "2022-06-22T14:47:13.594Z"
   },
   {
    "duration": 11,
    "start_time": "2022-06-22T14:47:59.451Z"
   },
   {
    "duration": 103,
    "start_time": "2022-06-22T14:48:01.412Z"
   },
   {
    "duration": 4,
    "start_time": "2022-06-22T14:57:32.567Z"
   },
   {
    "duration": 2070,
    "start_time": "2022-06-22T14:57:35.167Z"
   },
   {
    "duration": 3,
    "start_time": "2022-06-22T14:59:06.695Z"
   },
   {
    "duration": 94,
    "start_time": "2022-06-22T14:59:07.757Z"
   },
   {
    "duration": 5,
    "start_time": "2022-06-22T15:01:45.253Z"
   },
   {
    "duration": 138,
    "start_time": "2022-06-22T15:01:46.199Z"
   },
   {
    "duration": 3,
    "start_time": "2022-06-22T15:02:21.227Z"
   },
   {
    "duration": 193,
    "start_time": "2022-06-22T15:02:22.501Z"
   },
   {
    "duration": 3,
    "start_time": "2022-06-22T15:05:20.987Z"
   },
   {
    "duration": 132,
    "start_time": "2022-06-22T15:05:22.187Z"
   },
   {
    "duration": 4,
    "start_time": "2022-06-22T15:06:27.506Z"
   },
   {
    "duration": 3,
    "start_time": "2022-06-22T15:07:09.690Z"
   },
   {
    "duration": 203,
    "start_time": "2022-06-22T15:07:11.307Z"
   },
   {
    "duration": 3,
    "start_time": "2022-06-22T15:07:43.574Z"
   },
   {
    "duration": 153,
    "start_time": "2022-06-22T15:07:44.328Z"
   },
   {
    "duration": 3,
    "start_time": "2022-06-22T15:15:21.875Z"
   },
   {
    "duration": 202,
    "start_time": "2022-06-22T15:15:23.336Z"
   },
   {
    "duration": 3,
    "start_time": "2022-06-22T15:16:06.265Z"
   },
   {
    "duration": 94,
    "start_time": "2022-06-22T15:16:07.120Z"
   },
   {
    "duration": 2,
    "start_time": "2022-06-22T15:16:26.877Z"
   },
   {
    "duration": 92,
    "start_time": "2022-06-22T15:16:28.589Z"
   },
   {
    "duration": 3,
    "start_time": "2022-06-22T15:18:45.777Z"
   },
   {
    "duration": 95,
    "start_time": "2022-06-22T15:18:47.176Z"
   },
   {
    "duration": 3,
    "start_time": "2022-06-22T15:20:04.294Z"
   },
   {
    "duration": 96,
    "start_time": "2022-06-22T15:20:05.366Z"
   },
   {
    "duration": 2,
    "start_time": "2022-06-22T15:21:41.104Z"
   },
   {
    "duration": 117,
    "start_time": "2022-06-22T15:21:43.032Z"
   },
   {
    "duration": 3,
    "start_time": "2022-06-22T15:25:39.202Z"
   },
   {
    "duration": 81,
    "start_time": "2022-06-22T15:25:40.435Z"
   },
   {
    "duration": 3,
    "start_time": "2022-06-22T15:33:08.998Z"
   },
   {
    "duration": 225,
    "start_time": "2022-06-22T15:33:11.030Z"
   },
   {
    "duration": 3,
    "start_time": "2022-06-22T15:35:06.376Z"
   },
   {
    "duration": 149,
    "start_time": "2022-06-22T15:35:07.389Z"
   },
   {
    "duration": 3,
    "start_time": "2022-06-22T15:45:15.716Z"
   },
   {
    "duration": 67,
    "start_time": "2022-06-22T15:45:17.868Z"
   },
   {
    "duration": 2,
    "start_time": "2022-06-22T15:47:24.780Z"
   },
   {
    "duration": 94,
    "start_time": "2022-06-22T15:47:50.685Z"
   },
   {
    "duration": 2,
    "start_time": "2022-06-22T15:53:41.748Z"
   },
   {
    "duration": 3,
    "start_time": "2022-06-22T15:54:24.420Z"
   },
   {
    "duration": 65,
    "start_time": "2022-06-22T15:54:25.665Z"
   },
   {
    "duration": 3,
    "start_time": "2022-06-22T15:56:46.778Z"
   },
   {
    "duration": 98,
    "start_time": "2022-06-22T15:56:47.897Z"
   },
   {
    "duration": 3,
    "start_time": "2022-06-22T15:57:08.426Z"
   },
   {
    "duration": 92,
    "start_time": "2022-06-22T15:57:09.954Z"
   },
   {
    "duration": 3,
    "start_time": "2022-06-22T19:54:19.070Z"
   },
   {
    "duration": 10793,
    "start_time": "2022-06-22T19:54:19.075Z"
   },
   {
    "duration": 405,
    "start_time": "2022-06-22T19:54:29.870Z"
   },
   {
    "duration": 2,
    "start_time": "2022-06-22T19:54:30.277Z"
   },
   {
    "duration": 89,
    "start_time": "2022-06-22T19:54:30.281Z"
   },
   {
    "duration": 3,
    "start_time": "2022-06-22T19:54:30.371Z"
   },
   {
    "duration": 91,
    "start_time": "2022-06-22T19:54:30.375Z"
   },
   {
    "duration": 3,
    "start_time": "2022-06-22T19:54:30.468Z"
   },
   {
    "duration": 122,
    "start_time": "2022-06-22T19:54:30.472Z"
   },
   {
    "duration": 3,
    "start_time": "2022-06-22T19:54:30.595Z"
   },
   {
    "duration": 105,
    "start_time": "2022-06-22T19:54:30.599Z"
   },
   {
    "duration": 2,
    "start_time": "2022-06-22T19:54:30.706Z"
   },
   {
    "duration": 88,
    "start_time": "2022-06-22T19:54:30.710Z"
   },
   {
    "duration": 6,
    "start_time": "2022-06-22T19:54:30.800Z"
   },
   {
    "duration": 101,
    "start_time": "2022-06-22T19:54:30.808Z"
   }
  ],
  "kernelspec": {
   "display_name": "Python 3 (ipykernel)",
   "language": "python",
   "name": "python3"
  },
  "language_info": {
   "codemirror_mode": {
    "name": "ipython",
    "version": 3
   },
   "file_extension": ".py",
   "mimetype": "text/x-python",
   "name": "python",
   "nbconvert_exporter": "python",
   "pygments_lexer": "ipython3",
   "version": "3.9.7"
  },
  "toc": {
   "base_numbering": 1,
   "nav_menu": {},
   "number_sections": true,
   "sideBar": true,
   "skip_h1_title": true,
   "title_cell": "Table of Contents",
   "title_sidebar": "Contents",
   "toc_cell": false,
   "toc_position": {},
   "toc_section_display": true,
   "toc_window_display": false
  }
 },
 "nbformat": 4,
 "nbformat_minor": 5
}
